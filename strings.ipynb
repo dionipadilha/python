{
  "nbformat": 4,
  "nbformat_minor": 0,
  "metadata": {
    "colab": {
      "provenance": [],
      "authorship_tag": "ABX9TyMk9OKZSpRMQ8a5cHgEivO4",
      "include_colab_link": true
    },
    "kernelspec": {
      "name": "python3",
      "display_name": "Python 3"
    },
    "language_info": {
      "name": "python"
    }
  },
  "cells": [
    {
      "cell_type": "markdown",
      "metadata": {
        "id": "view-in-github",
        "colab_type": "text"
      },
      "source": [
        "<a href=\"https://colab.research.google.com/github/dionipadilha/SymPy-Fast-Intro/blob/main/python_strings.ipynb\" target=\"_parent\"><img src=\"https://colab.research.google.com/assets/colab-badge.svg\" alt=\"Open In Colab\"/></a>"
      ]
    },
    {
      "cell_type": "markdown",
      "source": [
        "# Python - Essential String Operations"
      ],
      "metadata": {
        "id": "qyYBSygaouIv"
      }
    },
    {
      "cell_type": "markdown",
      "source": [
        "## Basic Strings"
      ],
      "metadata": {
        "id": "BY-SQyT-sVN4"
      }
    },
    {
      "cell_type": "code",
      "execution_count": 1,
      "metadata": {
        "colab": {
          "base_uri": "https://localhost:8080/"
        },
        "id": "yBLWTaR5cOVT",
        "outputId": "df7880ac-1ece-4d85-a67d-e102054129df"
      },
      "outputs": [
        {
          "output_type": "stream",
          "name": "stdout",
          "text": [
            "Hello\n"
          ]
        }
      ],
      "source": [
        "# Display a string literal:\n",
        "print(\"Hello\")"
      ]
    },
    {
      "cell_type": "code",
      "source": [
        "# Assigning a string to a variable:\n",
        "name = \"Bob\"\n",
        "print(\"my name is\", name)"
      ],
      "metadata": {
        "colab": {
          "base_uri": "https://localhost:8080/"
        },
        "id": "BSZwQypOo1aW",
        "outputId": "ec69b7d6-b643-41e7-8d81-21174ded9443"
      },
      "execution_count": 2,
      "outputs": [
        {
          "output_type": "stream",
          "name": "stdout",
          "text": [
            "my name is Bob\n"
          ]
        }
      ]
    },
    {
      "cell_type": "code",
      "source": [
        "# Multiline strings\n",
        "txt = \"\"\"Lorem ipsum dolor sit amet,\n",
        "consectetur adipiscing elit.\"\"\"\n",
        "print(txt)"
      ],
      "metadata": {
        "colab": {
          "base_uri": "https://localhost:8080/"
        },
        "id": "5EkMkGMIpDH7",
        "outputId": "20436962-b899-40e5-804c-5e89539a8036"
      },
      "execution_count": 3,
      "outputs": [
        {
          "output_type": "stream",
          "name": "stdout",
          "text": [
            "Lorem ipsum dolor sit amet,\n",
            "consectetur adipiscing elit.\n"
          ]
        }
      ]
    },
    {
      "cell_type": "code",
      "source": [
        "# Strings are arrays:\n",
        "txt = \"Hello World!\"\n",
        "print(txt[0])"
      ],
      "metadata": {
        "colab": {
          "base_uri": "https://localhost:8080/"
        },
        "id": "Ccq_3dD4pPCq",
        "outputId": "e7f8ec4e-a62e-478f-a8cb-57fb34d2d324"
      },
      "execution_count": 4,
      "outputs": [
        {
          "output_type": "stream",
          "name": "stdout",
          "text": [
            "H\n"
          ]
        }
      ]
    },
    {
      "cell_type": "code",
      "source": [
        "# Looping through a string:\n",
        "for c in \"world\": print(c)"
      ],
      "metadata": {
        "colab": {
          "base_uri": "https://localhost:8080/"
        },
        "id": "MzRdjE1epdJ3",
        "outputId": "740b560d-7516-4f4e-a934-3885ad39312e"
      },
      "execution_count": 5,
      "outputs": [
        {
          "output_type": "stream",
          "name": "stdout",
          "text": [
            "w\n",
            "o\n",
            "r\n",
            "l\n",
            "d\n"
          ]
        }
      ]
    },
    {
      "cell_type": "code",
      "source": [
        "# String length:\n",
        "msg = \"Hello World!\"\n",
        "print(len(msg))"
      ],
      "metadata": {
        "colab": {
          "base_uri": "https://localhost:8080/"
        },
        "id": "Uipgat28poQv",
        "outputId": "2722fc10-1257-4b9c-d187-926104d94a4f"
      },
      "execution_count": 6,
      "outputs": [
        {
          "output_type": "stream",
          "name": "stdout",
          "text": [
            "12\n"
          ]
        }
      ]
    },
    {
      "cell_type": "code",
      "source": [
        "# Check string:\n",
        "txt = \"The best things in life are free!\"\n",
        "print(\"free\" in txt)"
      ],
      "metadata": {
        "colab": {
          "base_uri": "https://localhost:8080/"
        },
        "id": "ufq0Fx_bp9jQ",
        "outputId": "76bba7f9-9a00-47ef-8c1d-6af0f7c65ef9"
      },
      "execution_count": 7,
      "outputs": [
        {
          "output_type": "stream",
          "name": "stdout",
          "text": [
            "True\n"
          ]
        }
      ]
    },
    {
      "cell_type": "code",
      "source": [
        "# Print if check string:\n",
        "txt = \"The best things in life are free!\"\n",
        "if \"free\" in txt: print(\"Yes, 'free' is present.\")"
      ],
      "metadata": {
        "colab": {
          "base_uri": "https://localhost:8080/"
        },
        "id": "3PDC7vzQqPW2",
        "outputId": "7ffa12f6-8c03-442a-da96-81d3271a8a0c"
      },
      "execution_count": 8,
      "outputs": [
        {
          "output_type": "stream",
          "name": "stdout",
          "text": [
            "Yes, 'free' is present.\n"
          ]
        }
      ]
    },
    {
      "cell_type": "code",
      "source": [
        "# Check if NOT:\n",
        "txt = \"The best things in life are free!\"\n",
        "if \"expensive\" not in txt: print(\"No, 'expensive' is NOT present.\")"
      ],
      "metadata": {
        "colab": {
          "base_uri": "https://localhost:8080/"
        },
        "id": "n0D0zKrBqv-J",
        "outputId": "6fef9a3f-4934-4b15-9655-98bfb4f0cd0a"
      },
      "execution_count": 9,
      "outputs": [
        {
          "output_type": "stream",
          "name": "stdout",
          "text": [
            "No, 'expensive' is NOT present.\n"
          ]
        }
      ]
    },
    {
      "cell_type": "markdown",
      "source": [
        "## Slicing Strings"
      ],
      "metadata": {
        "id": "I55NaULqsYNF"
      }
    },
    {
      "cell_type": "code",
      "source": [
        "# Slicing strings:\n",
        "msg = \"Hello World!\"\n",
        "print(msg[6:11])"
      ],
      "metadata": {
        "colab": {
          "base_uri": "https://localhost:8080/"
        },
        "id": "hPyZokn0q3fp",
        "outputId": "799f9c91-6f14-4bb5-dbe7-eabaf3f42433"
      },
      "execution_count": 10,
      "outputs": [
        {
          "output_type": "stream",
          "name": "stdout",
          "text": [
            "World\n"
          ]
        }
      ]
    },
    {
      "cell_type": "code",
      "source": [
        "# Slice from the start:\n",
        "msg = \"Hello World!\"\n",
        "print(msg[:5])"
      ],
      "metadata": {
        "colab": {
          "base_uri": "https://localhost:8080/"
        },
        "id": "V8nfE_0SrL6M",
        "outputId": "4fa1cb52-b1ee-421e-ebc0-0515cb0d42ea"
      },
      "execution_count": 11,
      "outputs": [
        {
          "output_type": "stream",
          "name": "stdout",
          "text": [
            "Hello\n"
          ]
        }
      ]
    },
    {
      "cell_type": "code",
      "source": [
        "# Slice to the end:\n",
        "msg = \"Hello World!\"\n",
        "print(msg[6:])"
      ],
      "metadata": {
        "colab": {
          "base_uri": "https://localhost:8080/"
        },
        "id": "1CRhiOmzrgbY",
        "outputId": "a734edd9-9d9b-4452-fbe0-5cfc561c18db"
      },
      "execution_count": 12,
      "outputs": [
        {
          "output_type": "stream",
          "name": "stdout",
          "text": [
            "World!\n"
          ]
        }
      ]
    },
    {
      "cell_type": "code",
      "source": [
        "# Negative indexing:\n",
        "msg = \"Hello World!\"\n",
        "print(msg[-6:-1])"
      ],
      "metadata": {
        "colab": {
          "base_uri": "https://localhost:8080/"
        },
        "id": "_6yiKl4FrpEb",
        "outputId": "18904ee2-571f-4fec-934c-1c762224c621"
      },
      "execution_count": 13,
      "outputs": [
        {
          "output_type": "stream",
          "name": "stdout",
          "text": [
            "World\n"
          ]
        }
      ]
    },
    {
      "cell_type": "markdown",
      "source": [
        "## Modify Strings"
      ],
      "metadata": {
        "id": "NcfbYGjDsOia"
      }
    },
    {
      "cell_type": "code",
      "source": [
        "# Upper case:\n",
        "msg = \"Hello World!\"\n",
        "print(msg.upper())"
      ],
      "metadata": {
        "colab": {
          "base_uri": "https://localhost:8080/"
        },
        "id": "dp_ynwwmrzrd",
        "outputId": "9e4ed425-7872-4148-c973-4a2274d92b83"
      },
      "execution_count": 14,
      "outputs": [
        {
          "output_type": "stream",
          "name": "stdout",
          "text": [
            "HELLO WORLD!\n"
          ]
        }
      ]
    },
    {
      "cell_type": "code",
      "source": [
        "# Lower case:\n",
        "msg = \"Hello World!\"\n",
        "print(msg.lower())"
      ],
      "metadata": {
        "colab": {
          "base_uri": "https://localhost:8080/"
        },
        "id": "En4lLmCFsrmo",
        "outputId": "48711a22-49e3-4a11-e1d4-743fdd7f5d0c"
      },
      "execution_count": 15,
      "outputs": [
        {
          "output_type": "stream",
          "name": "stdout",
          "text": [
            "hello world!\n"
          ]
        }
      ]
    },
    {
      "cell_type": "code",
      "source": [
        "# Remove whitespaces:\n",
        "msg = \" Hello World! \"\n",
        "print('a' + msg + 'b')\n",
        "print('a' + msg.strip() + 'b')"
      ],
      "metadata": {
        "colab": {
          "base_uri": "https://localhost:8080/"
        },
        "id": "8t3OH7iNszXn",
        "outputId": "531ffbc1-efeb-4f99-e44f-42b1cae61cf4"
      },
      "execution_count": 16,
      "outputs": [
        {
          "output_type": "stream",
          "name": "stdout",
          "text": [
            "a Hello World! b\n",
            "aHello World!b\n"
          ]
        }
      ]
    },
    {
      "cell_type": "code",
      "source": [
        "# Replaces a string:\n",
        "msg = \"Hello World!\"\n",
        "print(msg.replace(\"World\", \"Python\"))"
      ],
      "metadata": {
        "colab": {
          "base_uri": "https://localhost:8080/"
        },
        "id": "QJ6d3k5ss9qx",
        "outputId": "0e101882-de2a-42a0-d599-89b63944a9c1"
      },
      "execution_count": 17,
      "outputs": [
        {
          "output_type": "stream",
          "name": "stdout",
          "text": [
            "Hello Python!\n"
          ]
        }
      ]
    },
    {
      "cell_type": "code",
      "source": [
        "# Split a string:\n",
        "msg = \"Hello World!\"\n",
        "print(msg.split(\"o\"))"
      ],
      "metadata": {
        "colab": {
          "base_uri": "https://localhost:8080/"
        },
        "id": "SzjwzBzltmAH",
        "outputId": "2294e7f0-28dc-4229-a2c1-acb9ab55ac4c"
      },
      "execution_count": 18,
      "outputs": [
        {
          "output_type": "stream",
          "name": "stdout",
          "text": [
            "['Hell', ' W', 'rld!']\n"
          ]
        }
      ]
    },
    {
      "cell_type": "code",
      "source": [
        "# String concatenation:\n",
        "name = \"John\"\n",
        "age = 36\n",
        "print(\"My name is\" + name + \", and I am \" + str(age) + \" years old.\")"
      ],
      "metadata": {
        "colab": {
          "base_uri": "https://localhost:8080/"
        },
        "id": "FqxNHAAUtzU-",
        "outputId": "23c90256-46dc-4660-89fe-6865adc31c6b"
      },
      "execution_count": 19,
      "outputs": [
        {
          "output_type": "stream",
          "name": "stdout",
          "text": [
            "My name isJohn, and I am 36 years old.\n"
          ]
        }
      ]
    },
    {
      "cell_type": "code",
      "source": [
        "# String format:\n",
        "name = \"John\"\n",
        "age = 36\n",
        "txt = \"My name is {}, and I am {} years old.\"\n",
        "print(txt.format(name, age))"
      ],
      "metadata": {
        "colab": {
          "base_uri": "https://localhost:8080/"
        },
        "id": "mHzz8JjhuL2L",
        "outputId": "d640d8b7-8cbb-4ea1-b5b0-584c99ddf1ab"
      },
      "execution_count": 20,
      "outputs": [
        {
          "output_type": "stream",
          "name": "stdout",
          "text": [
            "My name is John, and I am 36 years old.\n"
          ]
        }
      ]
    },
    {
      "cell_type": "code",
      "source": [
        "# String format using index numbers:\n",
        "name = \"John\"\n",
        "age = 36\n",
        "txt = \"My name is {1}, and I am {0} years old.\"\n",
        "print(txt.format(age, name))"
      ],
      "metadata": {
        "colab": {
          "base_uri": "https://localhost:8080/"
        },
        "id": "m-2-iqVmuyOO",
        "outputId": "1313700e-e2b5-465a-f789-c0f9d07bd491"
      },
      "execution_count": 21,
      "outputs": [
        {
          "output_type": "stream",
          "name": "stdout",
          "text": [
            "My name is John, and I am 36 years old.\n"
          ]
        }
      ]
    },
    {
      "cell_type": "markdown",
      "source": [
        "## Escape Characters"
      ],
      "metadata": {
        "id": "2sDbzx4JwTzz"
      }
    },
    {
      "cell_type": "code",
      "source": [
        "# Escape characters:\n",
        "txt = \"We are the so-called \\\"Vikings\\\" from the north.\"\n",
        "print(txt)"
      ],
      "metadata": {
        "colab": {
          "base_uri": "https://localhost:8080/"
        },
        "id": "svEG5tLCwGrL",
        "outputId": "f23ee2ab-f2e6-4a3a-fa84-0d9ad14c7fcb"
      },
      "execution_count": 22,
      "outputs": [
        {
          "output_type": "stream",
          "name": "stdout",
          "text": [
            "We are the so-called \"Vikings\" from the north.\n"
          ]
        }
      ]
    },
    {
      "cell_type": "code",
      "source": [
        "# Escape characters:\n",
        "txt = \"We are the so-called \\t Vikings from the north.\"\n",
        "print(txt)"
      ],
      "metadata": {
        "colab": {
          "base_uri": "https://localhost:8080/"
        },
        "id": "JjNSqnoCwZFV",
        "outputId": "ffece3d8-2c66-421e-f629-2507bb429c9b"
      },
      "execution_count": 23,
      "outputs": [
        {
          "output_type": "stream",
          "name": "stdout",
          "text": [
            "We are the so-called \t Vikings from the north.\n"
          ]
        }
      ]
    }
  ]
}
