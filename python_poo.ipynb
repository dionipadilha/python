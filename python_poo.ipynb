{
  "nbformat": 4,
  "nbformat_minor": 0,
  "metadata": {
    "colab": {
      "provenance": [],
      "authorship_tag": "ABX9TyP+0dBSzkIVRzP3xfzxBIKn",
      "include_colab_link": true
    },
    "kernelspec": {
      "name": "python3",
      "display_name": "Python 3"
    },
    "language_info": {
      "name": "python"
    }
  },
  "cells": [
    {
      "cell_type": "markdown",
      "metadata": {
        "id": "view-in-github",
        "colab_type": "text"
      },
      "source": [
        "<a href=\"https://colab.research.google.com/github/dionipadilha/Python/blob/main/python_poo.ipynb\" target=\"_parent\"><img src=\"https://colab.research.google.com/assets/colab-badge.svg\" alt=\"Open In Colab\"/></a>"
      ]
    },
    {
      "cell_type": "markdown",
      "source": [
        "# Python Classes and Objects"
      ],
      "metadata": {
        "id": "rONR9CoKnpps"
      }
    },
    {
      "cell_type": "markdown",
      "source": [
        "## Create Classes and Objects"
      ],
      "metadata": {
        "id": "YNskUzb6nt_I"
      }
    },
    {
      "cell_type": "code",
      "execution_count": null,
      "metadata": {
        "id": "b2b-Swf2lROK"
      },
      "outputs": [],
      "source": [
        "# Create a class with a property:\n",
        "class Person:\n",
        "  def __init__(self, name, age):\n",
        "    self.name = name\n",
        "    self.age = age"
      ]
    },
    {
      "cell_type": "code",
      "source": [
        "# Create objects:\n",
        "p1 = Person(\"Ana\", 36)\n",
        "p2 = Person(\"Bob\", 42)"
      ],
      "metadata": {
        "id": "MDm6VoqAlxFQ"
      },
      "execution_count": null,
      "outputs": []
    },
    {
      "cell_type": "code",
      "source": [
        "# Print the objects properties:\n",
        "print(p1.name, p1.age)\n",
        "print(p2.name, p2.age)"
      ],
      "metadata": {
        "colab": {
          "base_uri": "https://localhost:8080/"
        },
        "id": "SnDbDMw6l5sH",
        "outputId": "ac63d083-77ef-434e-8c79-bf79d799954d"
      },
      "execution_count": null,
      "outputs": [
        {
          "output_type": "stream",
          "name": "stdout",
          "text": [
            "Ana 36\n",
            "Bob 42\n"
          ]
        }
      ]
    },
    {
      "cell_type": "code",
      "source": [
        "# Print the objects:\n",
        "print(p1)\n",
        "print(p2)"
      ],
      "metadata": {
        "colab": {
          "base_uri": "https://localhost:8080/"
        },
        "id": "pKdkyiMSoW4W",
        "outputId": "0408070c-eedb-4217-c4b7-27dab2762ddc"
      },
      "execution_count": null,
      "outputs": [
        {
          "output_type": "stream",
          "name": "stdout",
          "text": [
            "<__main__.Person object at 0x7f99f4da57b0>\n",
            "<__main__.Person object at 0x7f99f4da55a0>\n"
          ]
        }
      ]
    },
    {
      "cell_type": "markdown",
      "source": [
        "## The string representation"
      ],
      "metadata": {
        "id": "_CBgx1-enxZf"
      }
    },
    {
      "cell_type": "code",
      "source": [
        "# The string representation of an object:\n",
        "class Person:\n",
        "  def __init__(self, name, age):\n",
        "    self.name = name\n",
        "    self.age = age\n",
        "\n",
        "  def __str__(self):\n",
        "    return f\"{self.name}({self.age})\"\n",
        "\n",
        "p1 = Person(\"John\", 36)\n",
        "\n",
        "print(p1)"
      ],
      "metadata": {
        "colab": {
          "base_uri": "https://localhost:8080/"
        },
        "id": "TBhwDVbKoU45",
        "outputId": "85bc1d27-49a9-4f12-f9c5-c3728bd3c826"
      },
      "execution_count": null,
      "outputs": [
        {
          "output_type": "stream",
          "name": "stdout",
          "text": [
            "John(36)\n"
          ]
        }
      ]
    },
    {
      "cell_type": "markdown",
      "source": [
        "## Object Methods"
      ],
      "metadata": {
        "id": "vIj63hYZpN8e"
      }
    },
    {
      "cell_type": "code",
      "source": [
        "# Object Methods:\n",
        "class Person:\n",
        "  def __init__(self, name, age):\n",
        "    self.name = name\n",
        "    self.age = age\n",
        "\n",
        "  def greeting(self):\n",
        "    print(\"Hello my name is \" + self.name)\n",
        "\n",
        "p1 = Person(\"John\", 36)\n",
        "p1.greeting()"
      ],
      "metadata": {
        "colab": {
          "base_uri": "https://localhost:8080/"
        },
        "id": "6V5mLGCTovwv",
        "outputId": "53183024-75f4-4261-ccf5-e6b12ced6e38"
      },
      "execution_count": null,
      "outputs": [
        {
          "output_type": "stream",
          "name": "stdout",
          "text": [
            "Hello my name is John\n"
          ]
        }
      ]
    },
    {
      "cell_type": "markdown",
      "source": [
        "## Modify Object Properties"
      ],
      "metadata": {
        "id": "u4ALn-myponN"
      }
    },
    {
      "cell_type": "code",
      "source": [
        "# Modify Object Properties:\n",
        "p1.age = 40\n",
        "print(p1.name, p1.age)"
      ],
      "metadata": {
        "colab": {
          "base_uri": "https://localhost:8080/"
        },
        "id": "RJ42hSRSpiEl",
        "outputId": "e6bc858e-a3ca-4fe0-809f-957e67038734"
      },
      "execution_count": null,
      "outputs": [
        {
          "output_type": "stream",
          "name": "stdout",
          "text": [
            "John 40\n"
          ]
        }
      ]
    },
    {
      "cell_type": "code",
      "source": [
        "# Insert New Object Properties:\n",
        "p1.lastname = \"Doe\"\n",
        "print(p1.name, p1.lastname)"
      ],
      "metadata": {
        "colab": {
          "base_uri": "https://localhost:8080/"
        },
        "id": "Q_z412AUqX68",
        "outputId": "38caefa6-ad29-4804-d5f7-862d53d61b38"
      },
      "execution_count": null,
      "outputs": [
        {
          "output_type": "stream",
          "name": "stdout",
          "text": [
            "John Doe\n"
          ]
        }
      ]
    },
    {
      "cell_type": "code",
      "source": [
        "# Delete Object Properties:\n",
        "del p1.age"
      ],
      "metadata": {
        "id": "iqWTfaMhqJhB"
      },
      "execution_count": null,
      "outputs": []
    },
    {
      "cell_type": "code",
      "source": [
        "# Delete objects:\n",
        "del p1"
      ],
      "metadata": {
        "id": "XVcIkTQLqspZ"
      },
      "execution_count": null,
      "outputs": []
    },
    {
      "cell_type": "markdown",
      "source": [
        "## Inheritance"
      ],
      "metadata": {
        "id": "-5RoxAzyxaXX"
      }
    },
    {
      "cell_type": "code",
      "source": [
        "# Create a Parent Class:\n",
        "class Person:\n",
        "  def __init__(self, fname, lname):\n",
        "    self.firstname = fname\n",
        "    self.lastname = lname\n",
        "\n",
        "  def printname(self):\n",
        "    print(self.firstname, self.lastname)\n",
        "\n",
        "p = Person(\"John\", \"Doe\")\n",
        "p.printname()"
      ],
      "metadata": {
        "colab": {
          "base_uri": "https://localhost:8080/"
        },
        "id": "Qwz4UcPyxhsz",
        "outputId": "6874630a-49d9-47d2-c9b8-cb20547fda31"
      },
      "execution_count": null,
      "outputs": [
        {
          "output_type": "stream",
          "name": "stdout",
          "text": [
            "John Doe\n"
          ]
        }
      ]
    },
    {
      "cell_type": "code",
      "source": [
        "# Create a Child Class:\n",
        "class Student(Person):\n",
        "  def __init__(self, fname, lname, graduation):\n",
        "    super().__init__(fname, lname)\n",
        "    self.graduation = graduation\n",
        "\n",
        "  def welcome(self):\n",
        "    print(\"Welcome\", self.firstname, \"to the class of\", self.graduation)\n",
        "\n",
        "s = Student(\"Mike\", \"Olsen\", 2019)\n",
        "s.printname()\n",
        "s.welcome()"
      ],
      "metadata": {
        "colab": {
          "base_uri": "https://localhost:8080/"
        },
        "id": "zZ893V_FxquO",
        "outputId": "defc4221-63fa-45c6-e039-9f6f0b879541"
      },
      "execution_count": null,
      "outputs": [
        {
          "output_type": "stream",
          "name": "stdout",
          "text": [
            "Mike Olsen\n",
            "Welcome Mike to the class of 2019\n"
          ]
        }
      ]
    },
    {
      "cell_type": "markdown",
      "source": [
        "## Polymorphism"
      ],
      "metadata": {
        "id": "-4ewhuoN_PCl"
      }
    },
    {
      "cell_type": "code",
      "source": [
        "# Polymorphism to classes with child classes:\n",
        "class Vehicle:\n",
        "  def __init__(self, brand, model):\n",
        "    self.brand = brand\n",
        "    self.model = model\n",
        "\n",
        "  def move(self):\n",
        "    print(\"Move!\")\n",
        "\n",
        "class Car(Vehicle):\n",
        "  pass\n",
        "\n",
        "class Boat(Vehicle):\n",
        "  def move(self):\n",
        "    print(\"Sail!\")\n",
        "\n",
        "class Plane(Vehicle):\n",
        "  def move(self):\n",
        "    print(\"Fly!\")\n",
        "\n",
        "vehicles = [\n",
        "  Car(\"Ford\", \"Mustang\"),\n",
        "  Boat(\"Ibiza\", \"Touring 20\"),\n",
        "  Plane(\"Boeing\", \"747\")\n",
        "]\n",
        "\n",
        "for vehicle in vehicles: vehicle.move()\n"
      ],
      "metadata": {
        "colab": {
          "base_uri": "https://localhost:8080/"
        },
        "id": "rdqhxlv1_RFS",
        "outputId": "84c47c3f-1d8b-44f9-8eac-5ae741d25c2c"
      },
      "execution_count": null,
      "outputs": [
        {
          "output_type": "stream",
          "name": "stdout",
          "text": [
            "Move!\n",
            "Sail!\n",
            "Fly!\n"
          ]
        }
      ]
    }
  ]
}