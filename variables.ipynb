{
  "nbformat": 4,
  "nbformat_minor": 0,
  "metadata": {
    "colab": {
      "provenance": [],
      "authorship_tag": "ABX9TyOJxaB6eaNPDZYINT+pI+q+",
      "include_colab_link": true
    },
    "kernelspec": {
      "name": "python3",
      "display_name": "Python 3"
    },
    "language_info": {
      "name": "python"
    }
  },
  "cells": [
    {
      "cell_type": "markdown",
      "metadata": {
        "id": "view-in-github",
        "colab_type": "text"
      },
      "source": [
        "<a href=\"https://colab.research.google.com/github/dionipadilha/Python/blob/main/variables.ipynb\" target=\"_parent\"><img src=\"https://colab.research.google.com/assets/colab-badge.svg\" alt=\"Open In Colab\"/></a>"
      ]
    },
    {
      "cell_type": "markdown",
      "source": [
        "# Python Variables"
      ],
      "metadata": {
        "id": "vvdChJEBUAac"
      }
    },
    {
      "cell_type": "code",
      "source": [
        "# Variables are containers for storing data values:\n",
        "# Variables do not need to be declared with any particular type:\n",
        "x = 5\n",
        "y = \"John\"\n",
        "print(x)\n",
        "print(y)"
      ],
      "metadata": {
        "colab": {
          "base_uri": "https://localhost:8080/"
        },
        "id": "qWYIC8FHUD9m",
        "outputId": "3d20ebea-3a20-4135-af47-1ac9aaf93de0"
      },
      "execution_count": null,
      "outputs": [
        {
          "output_type": "stream",
          "name": "stdout",
          "text": [
            "5\n",
            "John\n"
          ]
        }
      ]
    },
    {
      "cell_type": "code",
      "source": [
        "# Variables can even change type after they have been set:\n",
        "x = 4\n",
        "x = \"John\"\n",
        "print(x)"
      ],
      "metadata": {
        "colab": {
          "base_uri": "https://localhost:8080/"
        },
        "id": "qt_XTgusUG4Z",
        "outputId": "300c8b8d-c1d4-4c68-9d13-f87f50e5d21d"
      },
      "execution_count": null,
      "outputs": [
        {
          "output_type": "stream",
          "name": "stdout",
          "text": [
            "John\n"
          ]
        }
      ]
    },
    {
      "cell_type": "code",
      "source": [
        "# specify the data type of a variable:\n",
        "x = int(3)\n",
        "y = float(3)\n",
        "print(\"x will be:\" , x)\n",
        "print(\"y will be:\" , y)"
      ],
      "metadata": {
        "colab": {
          "base_uri": "https://localhost:8080/"
        },
        "id": "rwsyofaQUWwA",
        "outputId": "ec6a4fb7-ddf0-4167-f85f-a991e39f9771"
      },
      "execution_count": null,
      "outputs": [
        {
          "output_type": "stream",
          "name": "stdout",
          "text": [
            "x will be: 3\n",
            "y will be: 3.0\n"
          ]
        }
      ]
    },
    {
      "cell_type": "code",
      "source": [
        "# get the data type of a variable:\n",
        "x = \"Sally\"\n",
        "print(type(x))"
      ],
      "metadata": {
        "colab": {
          "base_uri": "https://localhost:8080/"
        },
        "id": "5io9mFJ8UlaA",
        "outputId": "877e0fbe-ac43-430f-9996-468ad47626fc"
      },
      "execution_count": null,
      "outputs": [
        {
          "output_type": "stream",
          "name": "stdout",
          "text": [
            "<class 'str'>\n"
          ]
        }
      ]
    },
    {
      "cell_type": "code",
      "source": [
        "# single or double quotes:\n",
        "x = \"John\"\n",
        "y = 'John'\n",
        "x == y"
      ],
      "metadata": {
        "colab": {
          "base_uri": "https://localhost:8080/"
        },
        "id": "7CnfQwBsVclj",
        "outputId": "c08a9150-06f5-49b9-c085-082092337097"
      },
      "execution_count": null,
      "outputs": [
        {
          "output_type": "execute_result",
          "data": {
            "text/plain": [
              "True"
            ]
          },
          "metadata": {},
          "execution_count": 5
        }
      ]
    },
    {
      "cell_type": "code",
      "source": [
        "# Variable names are case-sensitive:\n",
        "a = 3\n",
        "A = 4\n",
        "print(a + A)"
      ],
      "metadata": {
        "colab": {
          "base_uri": "https://localhost:8080/"
        },
        "id": "t3kkw2OFVuCB",
        "outputId": "8973aa76-ad57-4d94-893b-7203c06eb67a"
      },
      "execution_count": null,
      "outputs": [
        {
          "output_type": "stream",
          "name": "stdout",
          "text": [
            "7\n"
          ]
        }
      ]
    },
    {
      "cell_type": "code",
      "source": [
        "# A variable name must start with a letter or the underscore:\n",
        "myvar = \"John\"\n",
        "_my_var = \"John\""
      ],
      "metadata": {
        "id": "kqGClOyBWCXw"
      },
      "execution_count": null,
      "outputs": []
    },
    {
      "cell_type": "code",
      "source": [
        "# A variable name cannot start with a number:\n",
        "myvar2 = \"John\""
      ],
      "metadata": {
        "id": "a4OLMrhJWubj"
      },
      "execution_count": null,
      "outputs": []
    },
    {
      "cell_type": "code",
      "source": [
        "# Multi words variable names:\n",
        "camelCase = 1\n",
        "PascalCase = 2\n",
        "snake_case = 3"
      ],
      "metadata": {
        "id": "P1nJoiWdWy3h"
      },
      "execution_count": null,
      "outputs": []
    },
    {
      "cell_type": "code",
      "source": [
        "# assign values to multiple variables in one line:\n",
        "x, y, z = \"Orange\", \"Banana\", \"Cherry\"\n",
        "print(x)"
      ],
      "metadata": {
        "colab": {
          "base_uri": "https://localhost:8080/"
        },
        "id": "BWO_tVThXRsh",
        "outputId": "b414029c-de21-47ec-b4ba-40dbc5d83f35"
      },
      "execution_count": null,
      "outputs": [
        {
          "output_type": "stream",
          "name": "stdout",
          "text": [
            "Orange\n"
          ]
        }
      ]
    },
    {
      "cell_type": "code",
      "source": [
        "# assign the same value to multiple variables in one line:\n",
        "x = y = z = \"Orange\"\n",
        "print(y)"
      ],
      "metadata": {
        "colab": {
          "base_uri": "https://localhost:8080/"
        },
        "id": "wrekUF_MXrBa",
        "outputId": "16ee371d-69d8-4234-f224-42971728025c"
      },
      "execution_count": null,
      "outputs": [
        {
          "output_type": "stream",
          "name": "stdout",
          "text": [
            "Orange\n"
          ]
        }
      ]
    },
    {
      "cell_type": "code",
      "source": [
        "# Unpack a collection:\n",
        "fruits = [\"apple\", \"banana\", \"cherry\"]\n",
        "x, y, z = fruits\n",
        "print(z)"
      ],
      "metadata": {
        "colab": {
          "base_uri": "https://localhost:8080/"
        },
        "id": "f9Lb-mV3YAP1",
        "outputId": "4b12a27f-8b32-4387-c668-a013da61ecb6"
      },
      "execution_count": null,
      "outputs": [
        {
          "output_type": "stream",
          "name": "stdout",
          "text": [
            "cherry\n"
          ]
        }
      ]
    },
    {
      "cell_type": "code",
      "source": [
        "# Output multiple variables, separated by a comma:\n",
        "x = \"Python\"\n",
        "y = \"is\"\n",
        "z = \"awesome\"\n",
        "print(x, y, z)"
      ],
      "metadata": {
        "colab": {
          "base_uri": "https://localhost:8080/"
        },
        "id": "OtVVkr_VYPwS",
        "outputId": "c86c3299-cc14-4616-9467-61093fadf463"
      },
      "execution_count": null,
      "outputs": [
        {
          "output_type": "stream",
          "name": "stdout",
          "text": [
            "Python is awesome\n"
          ]
        }
      ]
    },
    {
      "cell_type": "code",
      "source": [
        "# Output multiple variables, using plus operator:\n",
        "x = \"Python \" # Notice the space character\n",
        "y = \"is \"     # Notice the space character\n",
        "z = \"awesome\"\n",
        "print(x + y + z)"
      ],
      "metadata": {
        "colab": {
          "base_uri": "https://localhost:8080/"
        },
        "id": "2jrN-I4cYxSz",
        "outputId": "4e52b996-c85d-4f59-d197-ceae1b5d36c1"
      },
      "execution_count": null,
      "outputs": [
        {
          "output_type": "stream",
          "name": "stdout",
          "text": [
            "Python is awesome\n"
          ]
        }
      ]
    },
    {
      "cell_type": "code",
      "source": [
        "# For numbers, the + character works as a mathematical operator:\n",
        "x = 5\n",
        "y = 10\n",
        "print(x + y)"
      ],
      "metadata": {
        "colab": {
          "base_uri": "https://localhost:8080/"
        },
        "id": "CY7YH_BrY7oT",
        "outputId": "56f64a7d-4745-4f3c-944b-f6ec4158d5fc"
      },
      "execution_count": null,
      "outputs": [
        {
          "output_type": "stream",
          "name": "stdout",
          "text": [
            "15\n"
          ]
        }
      ]
    },
    {
      "cell_type": "code",
      "source": [
        "# Global variables:\n",
        "x = \"awesome\"\n",
        "\n",
        "def myfunc():\n",
        "  print(\"Python is \" + x)\n",
        "\n",
        "myfunc()"
      ],
      "metadata": {
        "colab": {
          "base_uri": "https://localhost:8080/"
        },
        "id": "_UaFNIuKZTzk",
        "outputId": "1439665c-0875-4a9c-8a8d-9f416a1e7bea"
      },
      "execution_count": null,
      "outputs": [
        {
          "output_type": "stream",
          "name": "stdout",
          "text": [
            "Python is awesome\n"
          ]
        }
      ]
    },
    {
      "cell_type": "code",
      "source": [
        "# Local variable:\n",
        "x = \"awesome\"\n",
        "\n",
        "def myfunc():\n",
        "  x = \"fantastic\"\n",
        "  print(\"Python is \" + x) # Python is fantastic\n",
        "\n",
        "myfunc()\n",
        "\n",
        "print(\"Python is \" + x) # Python is awesome"
      ],
      "metadata": {
        "colab": {
          "base_uri": "https://localhost:8080/"
        },
        "id": "t66DNs6XZjIl",
        "outputId": "9072be4e-702f-47df-bfe9-9af86928f6b7"
      },
      "execution_count": null,
      "outputs": [
        {
          "output_type": "stream",
          "name": "stdout",
          "text": [
            "Python is fantastic\n",
            "Python is awesome\n"
          ]
        }
      ]
    },
    {
      "cell_type": "code",
      "source": [
        "# Create a global variable inside a function:\n",
        "def myfunc():\n",
        "  global x\n",
        "  x = \"fantastic\"\n",
        "  print(\"Python is \" + x) # Python is fantastic\n",
        "\n",
        "myfunc()\n",
        "\n",
        "print(\"Python is \" + x)"
      ],
      "metadata": {
        "colab": {
          "base_uri": "https://localhost:8080/"
        },
        "id": "yKncxBpfZuYG",
        "outputId": "19fed9a6-98bd-4b15-f5b5-6963afc93f5a"
      },
      "execution_count": null,
      "outputs": [
        {
          "output_type": "stream",
          "name": "stdout",
          "text": [
            "Python is fantastic\n",
            "Python is fantastic\n"
          ]
        }
      ]
    }
  ]
}