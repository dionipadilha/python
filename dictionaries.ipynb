{
  "nbformat": 4,
  "nbformat_minor": 0,
  "metadata": {
    "colab": {
      "provenance": [],
      "authorship_tag": "ABX9TyP5IZIUbF+oGg9+Dv6Q7FL5",
      "include_colab_link": true
    },
    "kernelspec": {
      "name": "python3",
      "display_name": "Python 3"
    },
    "language_info": {
      "name": "python"
    }
  },
  "cells": [
    {
      "cell_type": "markdown",
      "metadata": {
        "id": "view-in-github",
        "colab_type": "text"
      },
      "source": [
        "<a href=\"https://colab.research.google.com/github/dionipadilha/Python/blob/main/dictionaries.ipynb\" target=\"_parent\"><img src=\"https://colab.research.google.com/assets/colab-badge.svg\" alt=\"Open In Colab\"/></a>"
      ]
    },
    {
      "cell_type": "code",
      "source": [
        "# Dictionary constructor:\n",
        "car = dict(brand = \"Ford\", model = \"Corcel\", year = 1973)\n",
        "print(car)"
      ],
      "metadata": {
        "colab": {
          "base_uri": "https://localhost:8080/"
        },
        "id": "ZiZv_8zwiFFr",
        "outputId": "c0d1c60a-5b0b-4617-c5c0-33a23f65c290"
      },
      "execution_count": null,
      "outputs": [
        {
          "output_type": "stream",
          "name": "stdout",
          "text": [
            "{'brand': 'Ford', 'model': 'Corcel', 'year': 1973}\n"
          ]
        }
      ]
    },
    {
      "cell_type": "code",
      "execution_count": null,
      "metadata": {
        "colab": {
          "base_uri": "https://localhost:8080/"
        },
        "id": "F_b21_u-cMEi",
        "outputId": "5ad958d1-c5ad-4be6-f073-135b5da22eda"
      },
      "outputs": [
        {
          "output_type": "execute_result",
          "data": {
            "text/plain": [
              "{'brand': 'Ford', 'model': 'Corcel', 'year': 1973}"
            ]
          },
          "metadata": {},
          "execution_count": 59
        }
      ],
      "source": [
        "# store data values in key:value pairs:\n",
        "car = {\n",
        "  \"brand\": \"Ford\",\n",
        "  \"model\": \"Corcel\",\n",
        "  \"year\": 1973\n",
        "}\n",
        "car"
      ]
    },
    {
      "cell_type": "code",
      "source": [
        "# Dictionary cannot have two items with the same key:\n",
        "car = {\n",
        "  \"brand\": \"Ford\",\n",
        "  \"model\": \"Corcel\",\n",
        "  \"year\": 1969,\n",
        "  \"year\": 1973\n",
        "}\n",
        "car"
      ],
      "metadata": {
        "colab": {
          "base_uri": "https://localhost:8080/"
        },
        "id": "ERYpJDhNgmwN",
        "outputId": "2a96d5c1-d1ef-4f06-f833-70e8d8eb17d7"
      },
      "execution_count": null,
      "outputs": [
        {
          "output_type": "execute_result",
          "data": {
            "text/plain": [
              "{'brand': 'Ford', 'model': 'Corcel', 'year': 1973}"
            ]
          },
          "metadata": {},
          "execution_count": 13
        }
      ]
    },
    {
      "cell_type": "code",
      "source": [
        "# Access the dictionary items:\n",
        "car = {\n",
        "  \"brand\": \"Ford\",\n",
        "  \"model\": \"Corcel\",\n",
        "  \"year\": 1973\n",
        "}\n",
        "car[\"brand\"]"
      ],
      "metadata": {
        "colab": {
          "base_uri": "https://localhost:8080/",
          "height": 35
        },
        "id": "_zy0RBnchEBJ",
        "outputId": "ac4a81d7-508f-4ef5-9f7a-2a227a1cc9e5"
      },
      "execution_count": null,
      "outputs": [
        {
          "output_type": "execute_result",
          "data": {
            "text/plain": [
              "'Ford'"
            ],
            "application/vnd.google.colaboratory.intrinsic+json": {
              "type": "string"
            }
          },
          "metadata": {},
          "execution_count": 14
        }
      ]
    },
    {
      "cell_type": "code",
      "source": [
        "# Dictionary items are changeable:\n",
        "car = {\n",
        "  \"brand\": \"Ford\",\n",
        "  \"model\": \"Corcel\",\n",
        "  \"year\": 1969\n",
        "}\n",
        "car[\"year\"] = 1973\n",
        "car"
      ],
      "metadata": {
        "colab": {
          "base_uri": "https://localhost:8080/"
        },
        "id": "B6GdR04ChRnt",
        "outputId": "a470bb9f-8b33-48bc-dc76-8141e860ed60"
      },
      "execution_count": null,
      "outputs": [
        {
          "output_type": "execute_result",
          "data": {
            "text/plain": [
              "{'brand': 'Ford', 'model': 'Corcel', 'year': 1973}"
            ]
          },
          "metadata": {},
          "execution_count": 15
        }
      ]
    },
    {
      "cell_type": "code",
      "source": [
        "# Dictionary length:\n",
        "car = {\n",
        "  \"brand\": \"Ford\",\n",
        "  \"model\": \"Corcel\",\n",
        "  \"year\": 1973\n",
        "}\n",
        "len(car)"
      ],
      "metadata": {
        "colab": {
          "base_uri": "https://localhost:8080/"
        },
        "id": "uJ9cacqahvHE",
        "outputId": "05f4e404-367a-480c-8c8c-a43e4275f73c"
      },
      "execution_count": null,
      "outputs": [
        {
          "output_type": "execute_result",
          "data": {
            "text/plain": [
              "3"
            ]
          },
          "metadata": {},
          "execution_count": 17
        }
      ]
    },
    {
      "cell_type": "code",
      "source": [
        "# Dictionary data types:\n",
        "car = {\n",
        "  \"brand\": \"Ford\",\n",
        "  \"model\": \"Corcel\",\n",
        "  \"electric\": False,\n",
        "  \"year\": 1973,\n",
        "  \"colors\": [\"red\", \"white\", \"blue\"]\n",
        "}\n",
        "car"
      ],
      "metadata": {
        "colab": {
          "base_uri": "https://localhost:8080/"
        },
        "id": "hciTaplxh157",
        "outputId": "15cdd915-2711-4cc6-b652-31cb8d37ddbc"
      },
      "execution_count": null,
      "outputs": [
        {
          "output_type": "execute_result",
          "data": {
            "text/plain": [
              "{'brand': 'Ford',\n",
              " 'model': 'Corcel',\n",
              " 'electric': False,\n",
              " 'year': 1973,\n",
              " 'colors': ['red', 'white', 'blue']}"
            ]
          },
          "metadata": {},
          "execution_count": 20
        }
      ]
    },
    {
      "cell_type": "code",
      "source": [
        "# Get a list of the items:\n",
        "car = {\n",
        "  \"brand\": \"Ford\",\n",
        "  \"model\": \"Corcel\",\n",
        "  \"year\": 1973\n",
        "}\n",
        "car.items()"
      ],
      "metadata": {
        "colab": {
          "base_uri": "https://localhost:8080/"
        },
        "id": "lDK7qMC1kSiy",
        "outputId": "564d0f85-691c-42a8-fa82-cd93a35f4a46"
      },
      "execution_count": null,
      "outputs": [
        {
          "output_type": "execute_result",
          "data": {
            "text/plain": [
              "dict_items([('brand', 'Ford'), ('model', 'Corcel'), ('year', 1973)])"
            ]
          },
          "metadata": {},
          "execution_count": 25
        }
      ]
    },
    {
      "cell_type": "code",
      "source": [
        "# Get a list of the keys:\n",
        "car = {\n",
        "  \"brand\": \"Ford\",\n",
        "  \"model\": \"Corcel\",\n",
        "  \"year\": 1973\n",
        "}\n",
        "car.keys()"
      ],
      "metadata": {
        "colab": {
          "base_uri": "https://localhost:8080/"
        },
        "id": "-Gh4vi_0kFbn",
        "outputId": "6887b439-1cf5-44cd-d197-26ef70054d1a"
      },
      "execution_count": null,
      "outputs": [
        {
          "output_type": "execute_result",
          "data": {
            "text/plain": [
              "dict_keys(['brand', 'model', 'year'])"
            ]
          },
          "metadata": {},
          "execution_count": 27
        }
      ]
    },
    {
      "cell_type": "code",
      "source": [
        "# Get the value of a key:\n",
        "car = {\n",
        "  \"brand\": \"Ford\",\n",
        "  \"model\": \"Corcel\",\n",
        "  \"year\": 1973\n",
        "}\n",
        "car[\"model\"]"
      ],
      "metadata": {
        "colab": {
          "base_uri": "https://localhost:8080/",
          "height": 35
        },
        "id": "YPoDL7LQi4dM",
        "outputId": "a956cd8a-6056-4cfd-8ad6-b3bc70ee19d0"
      },
      "execution_count": null,
      "outputs": [
        {
          "output_type": "execute_result",
          "data": {
            "text/plain": [
              "'Corcel'"
            ],
            "application/vnd.google.colaboratory.intrinsic+json": {
              "type": "string"
            }
          },
          "metadata": {},
          "execution_count": 31
        }
      ]
    },
    {
      "cell_type": "code",
      "source": [
        "# Get a list of the values:\n",
        "car = {\n",
        "  \"brand\": \"Ford\",\n",
        "  \"model\": \"Corcel\",\n",
        "  \"year\": 1973\n",
        "}\n",
        "car.values()"
      ],
      "metadata": {
        "colab": {
          "base_uri": "https://localhost:8080/"
        },
        "id": "wSXIHF1VjHCM",
        "outputId": "1ec6640a-7bfb-4eb7-e45e-cf2bc03e4884"
      },
      "execution_count": null,
      "outputs": [
        {
          "output_type": "execute_result",
          "data": {
            "text/plain": [
              "dict_values(['Ford', 'Corcel', 1973])"
            ]
          },
          "metadata": {},
          "execution_count": 28
        }
      ]
    },
    {
      "cell_type": "code",
      "source": [
        "# Get the value of the key using get:\n",
        "car = {\n",
        "  \"brand\": \"Ford\",\n",
        "  \"model\": \"Corcel\",\n",
        "  \"year\": 1973\n",
        "}\n",
        "car.get(\"model\")"
      ],
      "metadata": {
        "colab": {
          "base_uri": "https://localhost:8080/",
          "height": 35
        },
        "id": "aNPg6EV4knp_",
        "outputId": "c4090137-199e-4c38-e4bb-373af2a182b0"
      },
      "execution_count": null,
      "outputs": [
        {
          "output_type": "execute_result",
          "data": {
            "text/plain": [
              "'Corcel'"
            ],
            "application/vnd.google.colaboratory.intrinsic+json": {
              "type": "string"
            }
          },
          "metadata": {},
          "execution_count": 33
        }
      ]
    },
    {
      "cell_type": "code",
      "source": [
        "# Check if a specified key is present in a dictionary:\n",
        "car = {\n",
        "  \"brand\": \"Ford\",\n",
        "  \"model\": \"Corcel\",\n",
        "  \"year\": 1973\n",
        "}\n",
        "if \"model\" in car: print(\"Yes, its present!\")"
      ],
      "metadata": {
        "id": "vy6bQ7R5j_O0",
        "colab": {
          "base_uri": "https://localhost:8080/"
        },
        "outputId": "a369a636-30bb-4940-9e04-c096e0d33476"
      },
      "execution_count": null,
      "outputs": [
        {
          "output_type": "stream",
          "name": "stdout",
          "text": [
            "Yes, its present!\n"
          ]
        }
      ]
    },
    {
      "cell_type": "code",
      "source": [
        "# Update the value:\n",
        "car = {\n",
        "  \"brand\": \"Ford\",\n",
        "  \"model\": \"Corcel\",\n",
        "  \"year\": 1969\n",
        "}\n",
        "car[\"year\"] = 1973\n",
        "car"
      ],
      "metadata": {
        "colab": {
          "base_uri": "https://localhost:8080/"
        },
        "id": "TIfjp2kIjZXU",
        "outputId": "dbc6828e-1d79-49c4-bbe8-4d5db0392967"
      },
      "execution_count": null,
      "outputs": [
        {
          "output_type": "execute_result",
          "data": {
            "text/plain": [
              "{'brand': 'Ford', 'model': 'Corcel', 'year': 1973}"
            ]
          },
          "metadata": {},
          "execution_count": 37
        }
      ]
    },
    {
      "cell_type": "code",
      "source": [
        "# Update the value using update:\n",
        "car = {\n",
        "  \"brand\": \"Ford\",\n",
        "  \"model\": \"Corcel\",\n",
        "  \"year\": 1969\n",
        "}\n",
        "car.update({\"year\": 1973})\n",
        "car"
      ],
      "metadata": {
        "colab": {
          "base_uri": "https://localhost:8080/"
        },
        "id": "RuJIIPW6CgZM",
        "outputId": "a1bd3474-a15d-4364-b801-0a3702a3a638"
      },
      "execution_count": null,
      "outputs": [
        {
          "output_type": "execute_result",
          "data": {
            "text/plain": [
              "{'brand': 'Ford', 'model': 'Corcel', 'year': 1973}"
            ]
          },
          "metadata": {},
          "execution_count": 39
        }
      ]
    },
    {
      "cell_type": "code",
      "source": [
        "# Add a new item to the original dictionary:\n",
        "car = {\n",
        "  \"brand\": \"Ford\",\n",
        "  \"model\": \"Corcel\",\n",
        "  \"year\": 1969\n",
        "}\n",
        "car[\"electric\"] = False\n",
        "car"
      ],
      "metadata": {
        "colab": {
          "base_uri": "https://localhost:8080/"
        },
        "id": "QiS3rpgqjuxP",
        "outputId": "24ac12f6-6374-4bae-c152-fcec321a71e6"
      },
      "execution_count": null,
      "outputs": [
        {
          "output_type": "execute_result",
          "data": {
            "text/plain": [
              "{'brand': 'Ford', 'model': 'Corcel', 'year': 1969, 'electric': False}"
            ]
          },
          "metadata": {},
          "execution_count": 40
        }
      ]
    },
    {
      "cell_type": "code",
      "source": [
        "# Removes the item with the specified key name:\n",
        "car = {\n",
        "  \"brand\": \"Ford\",\n",
        "  \"model\": \"Corcel\",\n",
        "  \"year\": 1973\n",
        "}\n",
        "del car[\"model\"]\n",
        "car"
      ],
      "metadata": {
        "colab": {
          "base_uri": "https://localhost:8080/"
        },
        "id": "377T490-Daqy",
        "outputId": "cffff90b-386e-40b8-e0e5-180edc3de7f5"
      },
      "execution_count": null,
      "outputs": [
        {
          "output_type": "execute_result",
          "data": {
            "text/plain": [
              "{'brand': 'Ford', 'year': 1973}"
            ]
          },
          "metadata": {},
          "execution_count": 53
        }
      ]
    },
    {
      "cell_type": "code",
      "source": [
        "# Removes the item with the specified key name:\n",
        "car = {\n",
        "  \"brand\": \"Ford\",\n",
        "  \"model\": \"Corcel\",\n",
        "  \"year\": 1973\n",
        "}\n",
        "car.pop(\"model\")\n",
        "car"
      ],
      "metadata": {
        "id": "jsTUV02KlBHV",
        "colab": {
          "base_uri": "https://localhost:8080/"
        },
        "outputId": "38a85546-0880-4f0b-9f6d-69ff8db9286e"
      },
      "execution_count": null,
      "outputs": [
        {
          "output_type": "execute_result",
          "data": {
            "text/plain": [
              "{'brand': 'Ford', 'year': 1973}"
            ]
          },
          "metadata": {},
          "execution_count": 54
        }
      ]
    },
    {
      "cell_type": "code",
      "source": [
        "# Removes the last inserted item:\n",
        "car = {\n",
        "  \"brand\": \"Ford\",\n",
        "  \"model\": \"Corcel\",\n",
        "  \"year\": 1973\n",
        "}\n",
        "car.popitem()\n",
        "car"
      ],
      "metadata": {
        "colab": {
          "base_uri": "https://localhost:8080/"
        },
        "id": "bwnHu06FDHAy",
        "outputId": "d3ae4e07-d247-4f5a-ad59-63e8466e5d96"
      },
      "execution_count": null,
      "outputs": [
        {
          "output_type": "execute_result",
          "data": {
            "text/plain": [
              "{'brand': 'Ford', 'model': 'Corcel'}"
            ]
          },
          "metadata": {},
          "execution_count": 55
        }
      ]
    },
    {
      "cell_type": "code",
      "source": [
        "# Empties the dictionary:\n",
        "car = {\n",
        "  \"brand\": \"Ford\",\n",
        "  \"model\": \"Corcel\",\n",
        "  \"year\": 1973\n",
        "}\n",
        "car.clear()\n",
        "car"
      ],
      "metadata": {
        "colab": {
          "base_uri": "https://localhost:8080/"
        },
        "id": "a-BbAJFmDwiZ",
        "outputId": "654c7fd8-4d91-4540-9d35-0ce6896f1933"
      },
      "execution_count": null,
      "outputs": [
        {
          "output_type": "execute_result",
          "data": {
            "text/plain": [
              "{}"
            ]
          },
          "metadata": {},
          "execution_count": 56
        }
      ]
    },
    {
      "cell_type": "code",
      "source": [
        "# Delete the dictionary completely:\n",
        "car = {\n",
        "  \"brand\": \"Ford\",\n",
        "  \"model\": \"Corcel\",\n",
        "  \"year\": 1973\n",
        "}\n",
        "del car\n",
        "# car # error"
      ],
      "metadata": {
        "id": "f6oENzKHD9a5"
      },
      "execution_count": null,
      "outputs": []
    },
    {
      "cell_type": "markdown",
      "source": [
        "## Loop Dictionaries"
      ],
      "metadata": {
        "id": "DA6PkYmzEICW"
      }
    },
    {
      "cell_type": "code",
      "source": [
        "# Loop through keys in the dictionary:\n",
        "thisdict = {\n",
        "  \"brand\": \"Ford\",\n",
        "  \"model\": \"Mustang\",\n",
        "  \"year\": 1964\n",
        "}\n",
        "for k in thisdict: print(k)"
      ],
      "metadata": {
        "colab": {
          "base_uri": "https://localhost:8080/"
        },
        "id": "fLvIOnsdFNA2",
        "outputId": "9b264562-4ee8-4cfc-d9c1-e6fb7ae065b7"
      },
      "execution_count": null,
      "outputs": [
        {
          "output_type": "stream",
          "name": "stdout",
          "text": [
            "brand\n",
            "model\n",
            "year\n"
          ]
        }
      ]
    },
    {
      "cell_type": "code",
      "source": [
        "# Loop through values in the dictionary:\n",
        "for x in thisdict: print(thisdict[x])"
      ],
      "metadata": {
        "colab": {
          "base_uri": "https://localhost:8080/"
        },
        "id": "olXtLJbkEzja",
        "outputId": "e27fe99a-43dc-4257-d445-04fe8cf90733"
      },
      "execution_count": null,
      "outputs": [
        {
          "output_type": "stream",
          "name": "stdout",
          "text": [
            "Ford\n",
            "Mustang\n",
            "1964\n"
          ]
        }
      ]
    },
    {
      "cell_type": "code",
      "source": [
        "# Loop through keys in the dictionary:\n",
        "thisdict = {\n",
        "  \"brand\": \"Ford\",\n",
        "  \"model\": \"Mustang\",\n",
        "  \"year\": 1964\n",
        "}\n",
        "for k in thisdict.keys(): print(k)"
      ],
      "metadata": {
        "colab": {
          "base_uri": "https://localhost:8080/"
        },
        "id": "FN6eZDXNEG5I",
        "outputId": "1b57a85f-9ea3-4675-8439-b713f86a227d"
      },
      "execution_count": null,
      "outputs": [
        {
          "output_type": "stream",
          "name": "stdout",
          "text": [
            "brand\n",
            "model\n",
            "year\n"
          ]
        }
      ]
    },
    {
      "cell_type": "code",
      "source": [
        "# Loop through values in the dictionary:\n",
        "for v in thisdict.values(): print(v)"
      ],
      "metadata": {
        "colab": {
          "base_uri": "https://localhost:8080/"
        },
        "id": "d01PfdOZEfLC",
        "outputId": "545673e3-ad4a-477c-da72-2fbf77453f56"
      },
      "execution_count": null,
      "outputs": [
        {
          "output_type": "stream",
          "name": "stdout",
          "text": [
            "Ford\n",
            "Mustang\n",
            "1964\n"
          ]
        }
      ]
    },
    {
      "cell_type": "code",
      "source": [
        "# Loop through values in the dictionary:\n",
        "for item in thisdict.items(): print(item)"
      ],
      "metadata": {
        "colab": {
          "base_uri": "https://localhost:8080/"
        },
        "id": "Ry3qOC0CFC5i",
        "outputId": "167d0cf6-c311-46db-9222-7f46f349c3c3"
      },
      "execution_count": null,
      "outputs": [
        {
          "output_type": "stream",
          "name": "stdout",
          "text": [
            "('brand', 'Ford')\n",
            "('model', 'Mustang')\n",
            "('year', 1964)\n"
          ]
        }
      ]
    },
    {
      "cell_type": "code",
      "source": [
        "# Loop through values in the dictionary:\n",
        "for k, v in thisdict.items(): print(k, v)"
      ],
      "metadata": {
        "colab": {
          "base_uri": "https://localhost:8080/"
        },
        "id": "5wUKdsm9FZ1j",
        "outputId": "bcd4d7df-4d44-4d91-d581-5d50e97f2a3b"
      },
      "execution_count": null,
      "outputs": [
        {
          "output_type": "stream",
          "name": "stdout",
          "text": [
            "brand Ford\n",
            "model Mustang\n",
            "year 1964\n"
          ]
        }
      ]
    },
    {
      "cell_type": "markdown",
      "source": [
        "## Copy Dictionaries"
      ],
      "metadata": {
        "id": "9SDq4wXUFpET"
      }
    },
    {
      "cell_type": "code",
      "source": [
        "# Make a copy of a dictionary with the copy() method:\n",
        "thisdict = {\n",
        "  \"brand\": \"Ford\",\n",
        "  \"model\": \"Mustang\",\n",
        "  \"year\": 1964\n",
        "}\n",
        "mydict = thisdict.copy()\n",
        "print(mydict)"
      ],
      "metadata": {
        "colab": {
          "base_uri": "https://localhost:8080/"
        },
        "id": "-Dub24PtFnI9",
        "outputId": "12e47590-06ad-4bcc-d7c7-698f53dc068d"
      },
      "execution_count": null,
      "outputs": [
        {
          "output_type": "stream",
          "name": "stdout",
          "text": [
            "{'brand': 'Ford', 'model': 'Mustang', 'year': 1964}\n"
          ]
        }
      ]
    },
    {
      "cell_type": "code",
      "source": [
        "# Make a copy of a dictionary with the dict() function:\n",
        "mydict = dict(thisdict)\n",
        "print(mydict)"
      ],
      "metadata": {
        "colab": {
          "base_uri": "https://localhost:8080/"
        },
        "id": "HbGCsdMxF8L-",
        "outputId": "fd1dc86e-d3ea-40bb-9096-a7918578e163"
      },
      "execution_count": null,
      "outputs": [
        {
          "output_type": "stream",
          "name": "stdout",
          "text": [
            "{'brand': 'Ford', 'model': 'Mustang', 'year': 1964}\n"
          ]
        }
      ]
    },
    {
      "cell_type": "markdown",
      "source": [
        "## Nested Dictionaries"
      ],
      "metadata": {
        "id": "V9MNEzVDGJmR"
      }
    },
    {
      "cell_type": "code",
      "source": [
        "# Create a dictionary that contain dictionaries:\n",
        "myfamily = {\n",
        "  \"child1\" : {\n",
        "    \"name\" : \"Emil\",\n",
        "    \"year\" : 2004\n",
        "  },\n",
        "  \"child2\" : {\n",
        "    \"name\" : \"Tobias\",\n",
        "    \"year\" : 2007\n",
        "  }\n",
        "}\n",
        "print(myfamily)"
      ],
      "metadata": {
        "colab": {
          "base_uri": "https://localhost:8080/"
        },
        "id": "9aobD2sPGFg-",
        "outputId": "083e99f5-7897-458c-f011-903b7335b1ce"
      },
      "execution_count": null,
      "outputs": [
        {
          "output_type": "stream",
          "name": "stdout",
          "text": [
            "{'child1': {'name': 'Emil', 'year': 2004}, 'child2': {'name': 'Tobias', 'year': 2007}}\n"
          ]
        }
      ]
    },
    {
      "cell_type": "code",
      "source": [
        "# Access items in nested dictionaries:\n",
        "print(myfamily[\"child2\"][\"name\"])"
      ],
      "metadata": {
        "colab": {
          "base_uri": "https://localhost:8080/"
        },
        "id": "kFaew4nPGSzX",
        "outputId": "eafde63e-329d-418b-f76f-d5dedeb82736"
      },
      "execution_count": null,
      "outputs": [
        {
          "output_type": "stream",
          "name": "stdout",
          "text": [
            "Tobias\n"
          ]
        }
      ]
    }
  ]
}